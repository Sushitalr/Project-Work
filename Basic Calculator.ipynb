{
 "cells": [
  {
   "attachments": {},
   "cell_type": "markdown",
   "metadata": {},
   "source": [
    "How to create a Calculator? \n",
    "+ : Addition, - : Subtraction, * : Multiplication, / : Division, % : modulor, // : Floor Divison, \n",
    "** : Exponential"
   ]
  },
  {
   "cell_type": "code",
   "execution_count": 1,
   "metadata": {},
   "outputs": [],
   "source": [
    "def calculator():\n",
    "\n",
    "    a=int(input(\"Enter your number: \"))\n",
    "    b=int(input(\"Enter your number: \"))\n",
    "    c=str(input(\"What you want to calculate?: add, sub, mul, div, mod, round, expo\"))\n",
    "\n",
    "    if c==str(\"add\"):\n",
    "        print(f\"the result of your addition is: {a+b}\")\n",
    "    elif c==str(\"sub\"):\n",
    "        print(f\"the result of your substraction is: {a-b}\")\n",
    "    elif c==str(\"mul\"):\n",
    "        print(f\"the result of your multiplication is: {a*b}\")\n",
    "    elif c==str(\"div\"):\n",
    "        print(f\"the result of your division is: {a/b}\")\n",
    "    elif c==str(\"mod\"):\n",
    "        print(f\"the result of your remainder is: {a%b}\")\n",
    "    elif c==str(\"round\"):\n",
    "        print(f\"the result of your roundoff is: {a//b}\")\n",
    "    elif c==str(\"expo\"):\n",
    "        print(f\"the result of exponential is: {a**b}\")"
   ]
  },
  {
   "cell_type": "code",
   "execution_count": null,
   "metadata": {},
   "outputs": [
    {
     "name": "stdout",
     "output_type": "stream",
     "text": [
      "the result of your substraction is: 0\n"
     ]
    }
   ],
   "source": [
    "calculator()"
   ]
  }
 ],
 "metadata": {
  "kernelspec": {
   "display_name": "Python 3",
   "language": "python",
   "name": "python3"
  },
  "language_info": {
   "codemirror_mode": {
    "name": "ipython",
    "version": 3
   },
   "file_extension": ".py",
   "mimetype": "text/x-python",
   "name": "python",
   "nbconvert_exporter": "python",
   "pygments_lexer": "ipython3",
   "version": "3.11.0 (main, Oct 24 2022, 18:26:48) [MSC v.1933 64 bit (AMD64)]"
  },
  "orig_nbformat": 4,
  "vscode": {
   "interpreter": {
    "hash": "d41397bc5170ee8c5a235ddd1bfd7484576f9146ae3feb96acdbab020e24b709"
   }
  }
 },
 "nbformat": 4,
 "nbformat_minor": 2
}
