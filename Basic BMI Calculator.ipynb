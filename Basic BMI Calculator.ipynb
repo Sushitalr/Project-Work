{
 "cells": [
  {
   "attachments": {},
   "cell_type": "markdown",
   "metadata": {},
   "source": [
    "Basic BMI Calculator in function"
   ]
  },
  {
   "cell_type": "code",
   "execution_count": 5,
   "metadata": {},
   "outputs": [],
   "source": [
    "def BMI():\n",
    " \n",
    "\n",
    "    weight=float(input(\"Enter your weight in kg: \"))\n",
    "    height=float(input(\"Enter your height in cm: \"))\n",
    "    print(f\"your weight is: {weight}kg\")\n",
    "    print(f\"your height is: {height}cms\")\n",
    "\n",
    "    BMI=(weight/height/height)*10000\n",
    "    print(f\"your BMI is: {BMI}\")\n",
    "    if BMI<=18.5:\n",
    "        print(\"Your are Underweight\")\n",
    "    elif BMI >=18.5 and BMI <25:\n",
    "        print(\"You are Normal\")\n",
    "    elif BMI >=25 and BMI <30:\n",
    "        print(\"You are Overweight\")\n",
    "    elif BMI >=30 and BMI <=40:\n",
    "        print(\"You are Obese\")"
   ]
  },
  {
   "cell_type": "code",
   "execution_count": 6,
   "metadata": {},
   "outputs": [
    {
     "name": "stdout",
     "output_type": "stream",
     "text": [
      "your weight is: 120.0kg\n",
      "your height is: 175.0cms\n",
      "your BMI is: 39.183673469387756\n",
      "You are Obese\n"
     ]
    }
   ],
   "source": [
    "BMI()"
   ]
  }
 ],
 "metadata": {
  "kernelspec": {
   "display_name": "Python 3",
   "language": "python",
   "name": "python3"
  },
  "language_info": {
   "codemirror_mode": {
    "name": "ipython",
    "version": 3
   },
   "file_extension": ".py",
   "mimetype": "text/x-python",
   "name": "python",
   "nbconvert_exporter": "python",
   "pygments_lexer": "ipython3",
   "version": "3.11.0"
  },
  "orig_nbformat": 4,
  "vscode": {
   "interpreter": {
    "hash": "d41397bc5170ee8c5a235ddd1bfd7484576f9146ae3feb96acdbab020e24b709"
   }
  }
 },
 "nbformat": 4,
 "nbformat_minor": 2
}
